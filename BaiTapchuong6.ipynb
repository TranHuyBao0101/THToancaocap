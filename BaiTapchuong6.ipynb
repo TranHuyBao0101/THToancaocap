{
  "nbformat": 4,
  "nbformat_minor": 0,
  "metadata": {
    "colab": {
      "name": "BaiTapchuong6.ipynb",
      "provenance": [],
      "authorship_tag": "ABX9TyMZ7s3cwF8pXLSKXQlNYJ00",
      "include_colab_link": true
    },
    "kernelspec": {
      "name": "python3",
      "display_name": "Python 3"
    },
    "language_info": {
      "name": "python"
    }
  },
  "cells": [
    {
      "cell_type": "markdown",
      "metadata": {
        "id": "view-in-github",
        "colab_type": "text"
      },
      "source": [
        "<a href=\"https://colab.research.google.com/github/TranHuyBao0101/THToancaocap/blob/main/BaiTapchuong6.ipynb\" target=\"_parent\"><img src=\"https://colab.research.google.com/assets/colab-badge.svg\" alt=\"Open In Colab\"/></a>"
      ]
    },
    {
      "cell_type": "markdown",
      "source": [
        "TH1 :"
      ],
      "metadata": {
        "id": "AFaC_ya9bDeb"
      }
    },
    {
      "cell_type": "code",
      "source": [
        "import math\n",
        "def giaithua(n):\n",
        "  if(n==0):\n",
        "    return 1\n",
        "  else:\n",
        "    return n*giaithua(n-1) \n",
        "giaithua(3) "
      ],
      "metadata": {
        "id": "T1AiYMVGbFDN",
        "outputId": "41767f77-916f-4e15-db1d-92f3f3cfbc6a",
        "colab": {
          "base_uri": "https://localhost:8080/"
        }
      },
      "execution_count": 2,
      "outputs": [
        {
          "output_type": "execute_result",
          "data": {
            "text/plain": [
              "6"
            ]
          },
          "metadata": {},
          "execution_count": 2
        }
      ]
    },
    {
      "cell_type": "code",
      "source": [
        "giaithua(4)"
      ],
      "metadata": {
        "id": "O612qkxdb0oj",
        "outputId": "c5bb2f4d-baa4-46fa-e758-1fb31aeec4d9",
        "colab": {
          "base_uri": "https://localhost:8080/"
        }
      },
      "execution_count": 3,
      "outputs": [
        {
          "output_type": "execute_result",
          "data": {
            "text/plain": [
              "24"
            ]
          },
          "metadata": {},
          "execution_count": 3
        }
      ]
    },
    {
      "cell_type": "markdown",
      "source": [
        "Th2"
      ],
      "metadata": {
        "id": "X8HSSRQXcACR"
      }
    },
    {
      "cell_type": "code",
      "source": [
        "def fibo(n):\n",
        "  if n==0:\n",
        "    return 0\n",
        "  if n==1:\n",
        "    return 1\n",
        "  return fibo(n-1) + fibo(n-2)\n",
        "fibo(4)"
      ],
      "metadata": {
        "id": "G9N29qcocBsP",
        "outputId": "7fb5ac78-923e-452b-cb5c-82ef9547e606",
        "colab": {
          "base_uri": "https://localhost:8080/"
        }
      },
      "execution_count": 6,
      "outputs": [
        {
          "output_type": "execute_result",
          "data": {
            "text/plain": [
              "3"
            ]
          },
          "metadata": {},
          "execution_count": 6
        }
      ]
    },
    {
      "cell_type": "code",
      "source": [
        "fibo(5)"
      ],
      "metadata": {
        "id": "iye9JBc1cvzM",
        "outputId": "1f4b357d-4667-48cf-9e69-f8b4a63c06aa",
        "colab": {
          "base_uri": "https://localhost:8080/"
        }
      },
      "execution_count": 7,
      "outputs": [
        {
          "output_type": "execute_result",
          "data": {
            "text/plain": [
              "5"
            ]
          },
          "metadata": {},
          "execution_count": 7
        }
      ]
    },
    {
      "cell_type": "code",
      "source": [
        "fibo(6)"
      ],
      "metadata": {
        "id": "4ZQLgB6Sc4iA",
        "outputId": "d5ede2b0-3d09-4911-b213-5f3718d84d2a",
        "colab": {
          "base_uri": "https://localhost:8080/"
        }
      },
      "execution_count": 8,
      "outputs": [
        {
          "output_type": "execute_result",
          "data": {
            "text/plain": [
              "8"
            ]
          },
          "metadata": {},
          "execution_count": 8
        }
      ]
    },
    {
      "cell_type": "markdown",
      "source": [
        "th3 :"
      ],
      "metadata": {
        "id": "cnSmmvMqdRBm"
      }
    },
    {
      "cell_type": "code",
      "source": [
        "def an_exp_an(n):\n",
        "  if n==1:\n",
        "    return 1.0/2\n",
        "  else:\n",
        "    return an_exp_an(n-1)**an_exp_an(n-1)\n",
        "\n",
        "an_exp_an(1)"
      ],
      "metadata": {
        "id": "JukBw00AdSrg",
        "outputId": "12868bb4-2273-4c20-90a2-8eb001b5bcb2",
        "colab": {
          "base_uri": "https://localhost:8080/"
        }
      },
      "execution_count": 9,
      "outputs": [
        {
          "output_type": "execute_result",
          "data": {
            "text/plain": [
              "0.5"
            ]
          },
          "metadata": {},
          "execution_count": 9
        }
      ]
    },
    {
      "cell_type": "code",
      "source": [
        "an_exp_an(2)"
      ],
      "metadata": {
        "id": "KbjgYPQDd2h1",
        "outputId": "e2703617-9153-4d85-d636-28887ef5f3a4",
        "colab": {
          "base_uri": "https://localhost:8080/"
        }
      },
      "execution_count": 10,
      "outputs": [
        {
          "output_type": "execute_result",
          "data": {
            "text/plain": [
              "0.7071067811865476"
            ]
          },
          "metadata": {},
          "execution_count": 10
        }
      ]
    },
    {
      "cell_type": "code",
      "source": [
        "an_exp_an(3)"
      ],
      "metadata": {
        "id": "BcVcja2hd5r1",
        "outputId": "3c620dc4-fa44-46cf-f0b3-105a09c590ef",
        "colab": {
          "base_uri": "https://localhost:8080/"
        }
      },
      "execution_count": 11,
      "outputs": [
        {
          "output_type": "execute_result",
          "data": {
            "text/plain": [
              "0.7826540273556803"
            ]
          },
          "metadata": {},
          "execution_count": 11
        }
      ]
    },
    {
      "cell_type": "code",
      "source": [
        "an_exp_an(4)"
      ],
      "metadata": {
        "id": "T4S2wvc_d8es",
        "outputId": "1dd01102-a021-484e-dc62-d8f34210967a",
        "colab": {
          "base_uri": "https://localhost:8080/"
        }
      },
      "execution_count": 12,
      "outputs": [
        {
          "output_type": "execute_result",
          "data": {
            "text/plain": [
              "0.8254713306050621"
            ]
          },
          "metadata": {},
          "execution_count": 12
        }
      ]
    },
    {
      "cell_type": "code",
      "source": [
        "an_exp_an(5)"
      ],
      "metadata": {
        "id": "cjXw491Gd_vR",
        "outputId": "f1e413b8-49d8-4546-a14d-157d4752d199",
        "colab": {
          "base_uri": "https://localhost:8080/"
        }
      },
      "execution_count": 13,
      "outputs": [
        {
          "output_type": "execute_result",
          "data": {
            "text/plain": [
              "0.8535714578150946"
            ]
          },
          "metadata": {},
          "execution_count": 13
        }
      ]
    },
    {
      "cell_type": "code",
      "source": [
        "an_exp_an(10)"
      ],
      "metadata": {
        "id": "_9_Q0K-keDSv",
        "outputId": "268e1296-aef7-48cb-c14f-53854170d966",
        "colab": {
          "base_uri": "https://localhost:8080/"
        }
      },
      "execution_count": 14,
      "outputs": [
        {
          "output_type": "execute_result",
          "data": {
            "text/plain": [
              "0.9176411981636667"
            ]
          },
          "metadata": {},
          "execution_count": 14
        }
      ]
    },
    {
      "cell_type": "markdown",
      "source": [
        "TH4 :"
      ],
      "metadata": {
        "id": "wAwemhGxeag_"
      }
    },
    {
      "cell_type": "code",
      "source": [
        "def bai4(n): \n",
        "  if n==1: \n",
        "    return 4 \n",
        "  else: \n",
        "    return 5.0/(6-bai4(n-1)) \n",
        "bai4(5)"
      ],
      "metadata": {
        "id": "3hDVbURNecWx",
        "outputId": "50620a41-c33c-4e69-838a-9e6650e4192e",
        "colab": {
          "base_uri": "https://localhost:8080/"
        }
      },
      "execution_count": 15,
      "outputs": [
        {
          "output_type": "execute_result",
          "data": {
            "text/plain": [
              "1.019108280254777"
            ]
          },
          "metadata": {},
          "execution_count": 15
        }
      ]
    },
    {
      "cell_type": "code",
      "source": [
        "bai4(6)"
      ],
      "metadata": {
        "id": "fb31nxbqfSPR",
        "outputId": "88ed2e2f-cca5-4f67-c093-bc165c830e4f",
        "colab": {
          "base_uri": "https://localhost:8080/"
        }
      },
      "execution_count": 16,
      "outputs": [
        {
          "output_type": "execute_result",
          "data": {
            "text/plain": [
              "1.0038363171355498"
            ]
          },
          "metadata": {},
          "execution_count": 16
        }
      ]
    },
    {
      "cell_type": "code",
      "source": [
        "bai4(7)"
      ],
      "metadata": {
        "id": "CZ4Ou2RHfXuI",
        "outputId": "19d0ab88-4a91-4a8f-917e-75448586be9d",
        "colab": {
          "base_uri": "https://localhost:8080/"
        }
      },
      "execution_count": 17,
      "outputs": [
        {
          "output_type": "execute_result",
          "data": {
            "text/plain": [
              "1.000767852572306"
            ]
          },
          "metadata": {},
          "execution_count": 17
        }
      ]
    },
    {
      "cell_type": "code",
      "source": [
        "bai4(10)"
      ],
      "metadata": {
        "id": "ZE7rRdWMfap2",
        "outputId": "ea58556a-13a9-48f0-8e7b-921830177b30",
        "colab": {
          "base_uri": "https://localhost:8080/"
        }
      },
      "execution_count": 18,
      "outputs": [
        {
          "output_type": "execute_result",
          "data": {
            "text/plain": [
              "1.0000061439905628"
            ]
          },
          "metadata": {},
          "execution_count": 18
        }
      ]
    },
    {
      "cell_type": "code",
      "source": [
        "bai4(100)"
      ],
      "metadata": {
        "id": "iTNqcosqfccc",
        "outputId": "2c94f46d-cb7d-465a-c97d-d811b0e0a754",
        "colab": {
          "base_uri": "https://localhost:8080/"
        }
      },
      "execution_count": 19,
      "outputs": [
        {
          "output_type": "execute_result",
          "data": {
            "text/plain": [
              "1.0"
            ]
          },
          "metadata": {},
          "execution_count": 19
        }
      ]
    },
    {
      "cell_type": "markdown",
      "source": [
        "TH5 :"
      ],
      "metadata": {
        "id": "X5fHOIbcfetA"
      }
    },
    {
      "cell_type": "code",
      "source": [
        "def tisoFibo(n): \n",
        "  if n==1: \n",
        "    return 1\n",
        "  else: \n",
        "    return 1.0 + 1.0/tisoFibo(n-1) \n",
        "  for i in range(1, 11): \n",
        "   print(i,tisoFibo(i))"
      ],
      "metadata": {
        "id": "W617cM9Bfgka"
      },
      "execution_count": 21,
      "outputs": []
    }
  ]
}