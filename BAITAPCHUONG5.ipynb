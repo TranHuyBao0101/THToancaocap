{
  "nbformat": 4,
  "nbformat_minor": 0,
  "metadata": {
    "colab": {
      "name": "BAITAPCHUONG5.ipynb",
      "provenance": [],
      "authorship_tag": "ABX9TyNM2JYJ5wga3ZiUZs9kcpKd",
      "include_colab_link": true
    },
    "kernelspec": {
      "name": "python3",
      "display_name": "Python 3"
    },
    "language_info": {
      "name": "python"
    }
  },
  "cells": [
    {
      "cell_type": "markdown",
      "metadata": {
        "id": "view-in-github",
        "colab_type": "text"
      },
      "source": [
        "<a href=\"https://colab.research.google.com/github/TranHuyBao0101/THToancaocap/blob/main/BAITAPCHUONG5.ipynb\" target=\"_parent\"><img src=\"https://colab.research.google.com/assets/colab-badge.svg\" alt=\"Open In Colab\"/></a>"
      ]
    },
    {
      "cell_type": "markdown",
      "source": [
        "TH 1:"
      ],
      "metadata": {
        "id": "qyAGvCB0G0MY"
      }
    },
    {
      "cell_type": "code",
      "source": [
        "x = 3\n",
        "print(x)"
      ],
      "metadata": {
        "colab": {
          "base_uri": "https://localhost:8080/"
        },
        "id": "uE4iwzB7G1bm",
        "outputId": "9bcd0aef-bf5c-4494-a5e7-0353abfefc71"
      },
      "execution_count": null,
      "outputs": [
        {
          "output_type": "stream",
          "name": "stdout",
          "text": [
            "3\n"
          ]
        }
      ]
    },
    {
      "cell_type": "code",
      "source": [
        "import math\n",
        "x = 4\n",
        "x = math.sqrt(1+x)\n",
        "print(x)"
      ],
      "metadata": {
        "id": "yHw1ZkMYIVD3",
        "outputId": "3750783c-dcc0-4712-f9ca-756d7fd493e7",
        "colab": {
          "base_uri": "https://localhost:8080/"
        }
      },
      "execution_count": 5,
      "outputs": [
        {
          "output_type": "stream",
          "name": "stdout",
          "text": [
            "2.23606797749979\n"
          ]
        }
      ]
    },
    {
      "cell_type": "code",
      "source": [
        "import math\n",
        "x = 6\n",
        "x = math.sqrt(1+x)\n",
        "print(x)"
      ],
      "metadata": {
        "id": "l2pUuT5BJQbT",
        "outputId": "004dab89-0eb6-4624-dbdb-0822b374bda7",
        "colab": {
          "base_uri": "https://localhost:8080/"
        }
      },
      "execution_count": 6,
      "outputs": [
        {
          "output_type": "stream",
          "name": "stdout",
          "text": [
            "2.6457513110645907\n"
          ]
        }
      ]
    },
    {
      "cell_type": "markdown",
      "source": [
        "TH 2:"
      ],
      "metadata": {
        "id": "26wuhCKpJXl9"
      }
    },
    {
      "cell_type": "code",
      "source": [
        "import math\n",
        "x = 3 \n",
        "lap = 1 \n",
        "while(x!=math.sqrt(x+1)):\n",
        "  x = math.sqrt(x+1)\n",
        "  lap = lap+1\n",
        "x"
      ],
      "metadata": {
        "id": "nPv6UJc8JZSw",
        "outputId": "743cb63f-e955-4d19-f3a3-b23c6376efee",
        "colab": {
          "base_uri": "https://localhost:8080/"
        }
      },
      "execution_count": 7,
      "outputs": [
        {
          "output_type": "execute_result",
          "data": {
            "text/plain": [
              "1.618033988749895"
            ]
          },
          "metadata": {},
          "execution_count": 7
        }
      ]
    },
    {
      "cell_type": "code",
      "source": [
        "lap"
      ],
      "metadata": {
        "id": "JXvf1cPfJ0Nf",
        "outputId": "7ccee6c0-d178-4f0f-b6fa-c9084cfa5601",
        "colab": {
          "base_uri": "https://localhost:8080/"
        }
      },
      "execution_count": 8,
      "outputs": [
        {
          "output_type": "execute_result",
          "data": {
            "text/plain": [
              "32"
            ]
          },
          "metadata": {},
          "execution_count": 8
        }
      ]
    },
    {
      "cell_type": "markdown",
      "source": [
        "TH 3:\n"
      ],
      "metadata": {
        "id": "qJPL6WWCJ4UZ"
      }
    },
    {
      "cell_type": "code",
      "source": [
        "import sympy as sp\n",
        "from sympy import Symbol\n",
        "X = Symbol('x')\n",
        "sp.solve(x-sp.sqrt(1+x),x)\n"
      ],
      "metadata": {
        "id": "Ne5jLLrvJ70j",
        "outputId": "20395539-29f4-4c6a-d0d8-cb8441bd6aca",
        "colab": {
          "base_uri": "https://localhost:8080/"
        }
      },
      "execution_count": 11,
      "outputs": [
        {
          "output_type": "execute_result",
          "data": {
            "text/plain": [
              "[]"
            ]
          },
          "metadata": {},
          "execution_count": 11
        }
      ]
    },
    {
      "cell_type": "markdown",
      "source": [
        "TH 4:"
      ],
      "metadata": {
        "id": "QZ_t1_7BLEbX"
      }
    },
    {
      "cell_type": "code",
      "source": [
        "import numpy as np\n",
        "v1 = np.array([1.,2.,3.])\n",
        "v2 = np.array([2.,1.,0.])\n",
        "v3 = v1+v2\n",
        "v3"
      ],
      "metadata": {
        "id": "ryofa-h5LGT2",
        "outputId": "ea662e21-4355-4683-8a7a-8f0003f4ecfd",
        "colab": {
          "base_uri": "https://localhost:8080/"
        }
      },
      "execution_count": 12,
      "outputs": [
        {
          "output_type": "execute_result",
          "data": {
            "text/plain": [
              "array([3., 3., 3.])"
            ]
          },
          "metadata": {},
          "execution_count": 12
        }
      ]
    },
    {
      "cell_type": "code",
      "source": [
        "3*v1+2*v2"
      ],
      "metadata": {
        "id": "wzaWde5JLvjT",
        "outputId": "4c248e61-da1a-4e3c-a742-2f743942160f",
        "colab": {
          "base_uri": "https://localhost:8080/"
        }
      },
      "execution_count": 13,
      "outputs": [
        {
          "output_type": "execute_result",
          "data": {
            "text/plain": [
              "array([7., 8., 9.])"
            ]
          },
          "metadata": {},
          "execution_count": 13
        }
      ]
    },
    {
      "cell_type": "code",
      "source": [
        "[1,2,3]+[2,1,0]"
      ],
      "metadata": {
        "id": "Ee0O4ZuhL0eO",
        "outputId": "73e08bab-be29-4788-9644-c3e806c2ee7d",
        "colab": {
          "base_uri": "https://localhost:8080/"
        }
      },
      "execution_count": 14,
      "outputs": [
        {
          "output_type": "execute_result",
          "data": {
            "text/plain": [
              "[1, 2, 3, 2, 1, 0]"
            ]
          },
          "metadata": {},
          "execution_count": 14
        }
      ]
    },
    {
      "cell_type": "code",
      "source": [
        "3*[1,2,3]+2*[2,1,0]"
      ],
      "metadata": {
        "id": "m62ybr80L7lU",
        "outputId": "bd287212-1b6f-4412-9a80-967f5cf30334",
        "colab": {
          "base_uri": "https://localhost:8080/"
        }
      },
      "execution_count": 15,
      "outputs": [
        {
          "output_type": "execute_result",
          "data": {
            "text/plain": [
              "[1, 2, 3, 1, 2, 3, 1, 2, 3, 2, 1, 0, 2, 1, 0]"
            ]
          },
          "metadata": {},
          "execution_count": 15
        }
      ]
    },
    {
      "cell_type": "code",
      "source": [
        "v4 = np.hstack([v1,v2])\n",
        "v4"
      ],
      "metadata": {
        "id": "yOLWgJf8MC_q",
        "outputId": "f19353c8-e60e-45c0-dccb-a4bbe56db227",
        "colab": {
          "base_uri": "https://localhost:8080/"
        }
      },
      "execution_count": 19,
      "outputs": [
        {
          "output_type": "execute_result",
          "data": {
            "text/plain": [
              "array([1., 2., 3., 2., 1., 0.])"
            ]
          },
          "metadata": {},
          "execution_count": 19
        }
      ]
    },
    {
      "cell_type": "code",
      "source": [
        "np.dot(v1,v2)"
      ],
      "metadata": {
        "id": "6cNrMfLxMWhY",
        "outputId": "8d7a90cb-343a-46d7-96e4-dbf4c726206c",
        "colab": {
          "base_uri": "https://localhost:8080/"
        }
      },
      "execution_count": 20,
      "outputs": [
        {
          "output_type": "execute_result",
          "data": {
            "text/plain": [
              "4.0"
            ]
          },
          "metadata": {},
          "execution_count": 20
        }
      ]
    },
    {
      "cell_type": "code",
      "source": [
        "angles = np.linspace(0,np.pi/2,5)\n",
        "angles"
      ],
      "metadata": {
        "id": "9S-_7OABMjwO",
        "outputId": "f970b94e-5273-4c34-bd6c-2ad9c7d60517",
        "colab": {
          "base_uri": "https://localhost:8080/"
        }
      },
      "execution_count": 21,
      "outputs": [
        {
          "output_type": "execute_result",
          "data": {
            "text/plain": [
              "array([0.        , 0.39269908, 0.78539816, 1.17809725, 1.57079633])"
            ]
          },
          "metadata": {},
          "execution_count": 21
        }
      ]
    },
    {
      "cell_type": "code",
      "source": [
        "np.sin(angles)"
      ],
      "metadata": {
        "id": "9mppfO0AM2xp",
        "outputId": "6a39ffcd-79c8-4b30-aa3d-fc194dbb73f4",
        "colab": {
          "base_uri": "https://localhost:8080/"
        }
      },
      "execution_count": 22,
      "outputs": [
        {
          "output_type": "execute_result",
          "data": {
            "text/plain": [
              "array([0.        , 0.38268343, 0.70710678, 0.92387953, 1.        ])"
            ]
          },
          "metadata": {},
          "execution_count": 22
        }
      ]
    },
    {
      "cell_type": "code",
      "source": [
        "import sympy as np\n",
        "np.sin(angles)"
      ],
      "metadata": {
        "id": "ujechM5iNkcY"
      },
      "execution_count": null,
      "outputs": []
    },
    {
      "cell_type": "code",
      "source": [
        ""
      ],
      "metadata": {
        "id": "7YxhbDYHODDe"
      },
      "execution_count": null,
      "outputs": []
    }
  ]
}