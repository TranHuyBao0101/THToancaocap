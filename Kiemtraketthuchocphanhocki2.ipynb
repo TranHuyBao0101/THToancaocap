{
  "nbformat": 4,
  "nbformat_minor": 0,
  "metadata": {
    "colab": {
      "name": "Kiemtraketthuchocphanhocki2.ipynb",
      "provenance": [],
      "authorship_tag": "ABX9TyMfzQ6vBUw0GR78IjmhBevw",
      "include_colab_link": true
    },
    "kernelspec": {
      "name": "python3",
      "display_name": "Python 3"
    },
    "language_info": {
      "name": "python"
    }
  },
  "cells": [
    {
      "cell_type": "markdown",
      "metadata": {
        "id": "view-in-github",
        "colab_type": "text"
      },
      "source": [
        "<a href=\"https://colab.research.google.com/github/TranHuyBao0101/THToancaocap/blob/main/Kiemtraketthuchocphanhocki2.ipynb\" target=\"_parent\"><img src=\"https://colab.research.google.com/assets/colab-badge.svg\" alt=\"Open In Colab\"/></a>"
      ]
    },
    {
      "cell_type": "markdown",
      "source": [
        "1. Tích phân"
      ],
      "metadata": {
        "id": "6m7rjANyXVPN"
      }
    },
    {
      "cell_type": "markdown",
      "source": [
        "1.1"
      ],
      "metadata": {
        "id": "_3FHtAndXcFh"
      }
    },
    {
      "cell_type": "code",
      "source": [
        "from sympy import "
      ],
      "metadata": {
        "id": "DNITgW7mXdT7"
      },
      "execution_count": null,
      "outputs": []
    },
    {
      "cell_type": "markdown",
      "source": [
        "2. Tính đạo hàm"
      ],
      "metadata": {
        "id": "gR5u0UzMZCnP"
      }
    },
    {
      "cell_type": "markdown",
      "source": [
        "2.2"
      ],
      "metadata": {
        "id": "EjXjmQPSZGhh"
      }
    },
    {
      "cell_type": "code",
      "source": [
        "from sympy import Derivative , Symbol\n",
        "x = Symbol('x')\n",
        "f = (2*x-1)/(x+2)\n",
        "Derivative(f, x).doit()\n"
      ],
      "metadata": {
        "id": "8z0lTtKtZJlL",
        "outputId": "425edd30-33ca-4bc3-b9d9-5a69d839db6d",
        "colab": {
          "base_uri": "https://localhost:8080/",
          "height": 58
        }
      },
      "execution_count": 1,
      "outputs": [
        {
          "output_type": "execute_result",
          "data": {
            "text/plain": [
              "2/(x + 2) - (2*x - 1)/(x + 2)**2"
            ],
            "text/latex": "$\\displaystyle \\frac{2}{x + 2} - \\frac{2 x - 1}{\\left(x + 2\\right)^{2}}$"
          },
          "metadata": {},
          "execution_count": 1
        }
      ]
    },
    {
      "cell_type": "markdown",
      "source": [
        "2.6"
      ],
      "metadata": {
        "id": "8YCiJ6cXanm-"
      }
    },
    {
      "cell_type": "code",
      "source": [
        "from sympy import Derivative , Symbol\n",
        "x = Symbol('x')\n",
        "f = (2/3*x**3)-(5*x**2)+(2*x)+4\n",
        "Derivative(f, x).doit()"
      ],
      "metadata": {
        "id": "SLH3fWIxasuO",
        "outputId": "85bbc0ae-73ba-44aa-b6fe-66cf01ddb08c",
        "colab": {
          "base_uri": "https://localhost:8080/",
          "height": 38
        }
      },
      "execution_count": 3,
      "outputs": [
        {
          "output_type": "execute_result",
          "data": {
            "text/plain": [
              "2.0*x**2 - 10*x + 2"
            ],
            "text/latex": "$\\displaystyle 2.0 x^{2} - 10 x + 2$"
          },
          "metadata": {},
          "execution_count": 3
        }
      ]
    },
    {
      "cell_type": "markdown",
      "source": [
        "3.Tinh gioi han"
      ],
      "metadata": {
        "id": "s32cARSjbtgI"
      }
    },
    {
      "cell_type": "markdown",
      "source": [
        "3.4"
      ],
      "metadata": {
        "id": "Q7WGUAzWb8mL"
      }
    },
    {
      "cell_type": "code",
      "source": [
        "from sympy import Limit, Symbol ,S\n",
        "x = Symbol('x')\n",
        "Limit(sin(x)/2x , x , S.Infinity)"
      ],
      "metadata": {
        "id": "uHvLagkfbxlf",
        "outputId": "778909be-a4a8-40e8-e601-e1cbb155af5b",
        "colab": {
          "base_uri": "https://localhost:8080/",
          "height": 130
        }
      },
      "execution_count": 6,
      "outputs": [
        {
          "output_type": "error",
          "ename": "SyntaxError",
          "evalue": "ignored",
          "traceback": [
            "\u001b[0;36m  File \u001b[0;32m\"<ipython-input-6-268a7d31a16d>\"\u001b[0;36m, line \u001b[0;32m3\u001b[0m\n\u001b[0;31m    Limit(sin(x)/2x , x , S.Infinity)\u001b[0m\n\u001b[0m                  ^\u001b[0m\n\u001b[0;31mSyntaxError\u001b[0m\u001b[0;31m:\u001b[0m invalid syntax\n"
          ]
        }
      ]
    },
    {
      "cell_type": "markdown",
      "source": [
        "3.5"
      ],
      "metadata": {
        "id": "0AgweAdpc4w4"
      }
    },
    {
      "cell_type": "code",
      "source": [
        "from sympy import Limit, Symbol ,S\n",
        "x = Symbol('x')\n",
        "Limit((1+x+(x**2)+(x**3))/1+x) , x , S.Infinity)"
      ],
      "metadata": {
        "id": "1o8k5zVAc0BD",
        "outputId": "d8aafb81-867a-4da2-f9f6-bfab59980889",
        "colab": {
          "base_uri": "https://localhost:8080/",
          "height": 130
        }
      },
      "execution_count": 7,
      "outputs": [
        {
          "output_type": "error",
          "ename": "SyntaxError",
          "evalue": "ignored",
          "traceback": [
            "\u001b[0;36m  File \u001b[0;32m\"<ipython-input-7-7804aac86ade>\"\u001b[0;36m, line \u001b[0;32m3\u001b[0m\n\u001b[0;31m    Limit((1+x+(x**2)+(x**3))/1+x) , x , S.Infinity)\u001b[0m\n\u001b[0m                                                   ^\u001b[0m\n\u001b[0;31mSyntaxError\u001b[0m\u001b[0;31m:\u001b[0m invalid syntax\n"
          ]
        }
      ]
    }
  ]
}